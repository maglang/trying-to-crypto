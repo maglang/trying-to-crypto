{
 "cells": [
  {
   "source": [
    "# Outline\n",
    "\n",
    "## Things to do \n",
    "1. Inspect data source:\n",
    "    - what type of data is available (raw crypto data locally)\n",
    "    - check out other data sources (source to stream online, look for API)\n",
    "        a. Binance\n",
    "        b. Cryptomarketcap\n",
    "2. Logarithmic Regression Rainbow of Stable Coins:\n",
    "    - to check support and resistance levels in the future\n",
    "    - answer: when is the next big test of resistance and support\n",
    "    - price if it moves bands\n",
    "3. HODL wave\n",
    "    - how many of stable coins are held for more than an n period (3 months, 6 months, 1 year, more than 1 year)\n",
    "    - if 1 year is at top, bull market in the coming days (downward --> bull market underway)\n",
    "    - HODL high? when? price?\n",
    "    - cycle high? when? HODL %?\n",
    "4.  200W Moving Average Multiple\n",
    "    - What is it?\n",
    "    - What multiple does bitcoin start to dip/rise in price\n",
    "5. Bull Market Weekly Support\n",
    "6. Google Searches? \n",
    "7. NLP: \n",
    "    - Reddit/twitter mentions for each coin\n",
    "    - Sentiment analysis\n",
    "8. Bollinger Bands and RSI\n",
    "9. MVRV Z Score\n",
    "10. Pi Indicator\n",
    "11. Stock to Flow Ratio\n",
    "\n",
    "\n",
    "Shit Coins\n",
    "1. Check coinmarketcap\n",
    "2. Holders list (Use pareto)\n",
    "3. Liquidity Pool\n",
    "4. Volume\n",
    "\n",
    "What about September?\n",
    "- Historically, what happened in the previous crypto winters?\n",
    "- Do people actually sell before crypto winters? (HODL %)"
   ],
   "cell_type": "markdown",
   "metadata": {}
  },
  {
   "cell_type": "code",
   "execution_count": 1,
   "id": "cbcfa8bd-10ec-47a6-a4c4-45f5fe91153a",
   "metadata": {},
   "outputs": [],
   "source": [
    "import pandas as pd\n",
    "import os\n",
    "# import plotly\n",
    "# import requests\n",
    "# import tweepy\n",
    "import streamlit as st"
   ]
  },
  {
   "cell_type": "code",
   "execution_count": 2,
   "id": "252ac29c-3b52-4580-a235-fb18028a0543",
   "metadata": {},
   "outputs": [],
   "source": [
    "path = 'raw_data/'"
   ]
  },
  {
   "cell_type": "code",
   "execution_count": 3,
   "id": "d4bf7902-fbc5-41c1-8fab-180346cb23e8",
   "metadata": {},
   "outputs": [
    {
     "output_type": "execute_result",
     "data": {
      "text/plain": [
       "['Binance_ADAUSDT_d.csv',\n",
       " 'Binance_BNBUSDT_d.csv',\n",
       " 'Binance_BTCUSDT_d.csv',\n",
       " 'Binance_ETHUSDT_d.csv',\n",
       " 'Binance_LINKUSDT_d.csv',\n",
       " 'Binance_LTCUSDT_d.csv',\n",
       " 'Binance_TRXUSDT_d.csv',\n",
       " 'Binance_XMRUSDT_d.csv',\n",
       " 'Binance_XRPUSDT_d.csv']"
      ]
     },
     "metadata": {},
     "execution_count": 3
    }
   ],
   "source": [
    "os.listdir(path)"
   ]
  },
  {
   "cell_type": "code",
   "execution_count": 4,
   "id": "a99dc2f9-6dc3-485d-8dda-00e57094273d",
   "metadata": {},
   "outputs": [],
   "source": [
    "ada_usdt = pd.read_csv(path+'Binance_ADAUSDT_d.csv', header = 1, parse_dates = ['unix', 'date'], index_col = 'date')"
   ]
  },
  {
   "cell_type": "code",
   "execution_count": 5,
   "id": "90282e19-d18e-4939-b99f-3f146618cb4f",
   "metadata": {},
   "outputs": [
    {
     "output_type": "execute_result",
     "data": {
      "text/plain": [
       "                     unix    symbol    open    high     low   close  \\\n",
       "date                                                                  \n",
       "2021-04-30  1619740800000  ADA/USDT  1.3066  1.3080  1.3015  1.3068   \n",
       "2021-04-29  1619654400000  ADA/USDT  1.3373  1.4117  1.2661  1.3063   \n",
       "2021-04-28  1619568000000  ADA/USDT  1.3063  1.3488  1.2326  1.3379   \n",
       "2021-04-27  1619481600000  ADA/USDT  1.2377  1.3333  1.2232  1.3063   \n",
       "2021-04-26  1619395200000  ADA/USDT  1.0910  1.2509  1.0793  1.2375   \n",
       "\n",
       "              Volume ADA   Volume USDT  tradecount  \n",
       "date                                                \n",
       "2021-04-30  1.657076e+06  2.161296e+06        3684  \n",
       "2021-04-29  5.785297e+08  7.772462e+08     1273495  \n",
       "2021-04-28  3.885986e+08  5.054263e+08      690474  \n",
       "2021-04-27  3.929790e+08  5.049181e+08      760259  \n",
       "2021-04-26  4.733699e+08  5.687147e+08      773997  "
      ],
      "text/html": "<div>\n<style scoped>\n    .dataframe tbody tr th:only-of-type {\n        vertical-align: middle;\n    }\n\n    .dataframe tbody tr th {\n        vertical-align: top;\n    }\n\n    .dataframe thead th {\n        text-align: right;\n    }\n</style>\n<table border=\"1\" class=\"dataframe\">\n  <thead>\n    <tr style=\"text-align: right;\">\n      <th></th>\n      <th>unix</th>\n      <th>symbol</th>\n      <th>open</th>\n      <th>high</th>\n      <th>low</th>\n      <th>close</th>\n      <th>Volume ADA</th>\n      <th>Volume USDT</th>\n      <th>tradecount</th>\n    </tr>\n    <tr>\n      <th>date</th>\n      <th></th>\n      <th></th>\n      <th></th>\n      <th></th>\n      <th></th>\n      <th></th>\n      <th></th>\n      <th></th>\n      <th></th>\n    </tr>\n  </thead>\n  <tbody>\n    <tr>\n      <th>2021-04-30</th>\n      <td>1619740800000</td>\n      <td>ADA/USDT</td>\n      <td>1.3066</td>\n      <td>1.3080</td>\n      <td>1.3015</td>\n      <td>1.3068</td>\n      <td>1.657076e+06</td>\n      <td>2.161296e+06</td>\n      <td>3684</td>\n    </tr>\n    <tr>\n      <th>2021-04-29</th>\n      <td>1619654400000</td>\n      <td>ADA/USDT</td>\n      <td>1.3373</td>\n      <td>1.4117</td>\n      <td>1.2661</td>\n      <td>1.3063</td>\n      <td>5.785297e+08</td>\n      <td>7.772462e+08</td>\n      <td>1273495</td>\n    </tr>\n    <tr>\n      <th>2021-04-28</th>\n      <td>1619568000000</td>\n      <td>ADA/USDT</td>\n      <td>1.3063</td>\n      <td>1.3488</td>\n      <td>1.2326</td>\n      <td>1.3379</td>\n      <td>3.885986e+08</td>\n      <td>5.054263e+08</td>\n      <td>690474</td>\n    </tr>\n    <tr>\n      <th>2021-04-27</th>\n      <td>1619481600000</td>\n      <td>ADA/USDT</td>\n      <td>1.2377</td>\n      <td>1.3333</td>\n      <td>1.2232</td>\n      <td>1.3063</td>\n      <td>3.929790e+08</td>\n      <td>5.049181e+08</td>\n      <td>760259</td>\n    </tr>\n    <tr>\n      <th>2021-04-26</th>\n      <td>1619395200000</td>\n      <td>ADA/USDT</td>\n      <td>1.0910</td>\n      <td>1.2509</td>\n      <td>1.0793</td>\n      <td>1.2375</td>\n      <td>4.733699e+08</td>\n      <td>5.687147e+08</td>\n      <td>773997</td>\n    </tr>\n  </tbody>\n</table>\n</div>"
     },
     "metadata": {},
     "execution_count": 5
    }
   ],
   "source": [
    "ada_usdt.head()"
   ]
  },
  {
   "cell_type": "code",
   "execution_count": 39,
   "metadata": {},
   "outputs": [],
   "source": [
    "per_cap_energy_use = pd.read_csv(r'trying-to-crypto\\per-capita-energy-use.csv')\n",
    "per_cap_energy_use = per_cap_energy_use[per_cap_energy_use['Year'] == 2018].set_index('Entity')\n",
    "per_cap_energy_use = per_cap_energy_use[['Year', 'Energy consumption per capita (kWh)']]\n",
    "per_cap_energy_use = per_cap_energy_use.loc[[\"China\", \"United States\", \"India\", \"Japan\", \"Russia\", \"South Korea\", \"Canada\", \"Brazil\", \"Germany\", \"France\", \"United Kingdom\", \"Italy\", \"Philippines\"]]"
   ]
  },
  {
   "cell_type": "code",
   "execution_count": 40,
   "metadata": {},
   "outputs": [
    {
     "output_type": "execute_result",
     "data": {
      "text/plain": [
       "               Year  Energy consumption per capita (kWh)\n",
       "Entity                                                  \n",
       "China          2018                            26416.955\n",
       "United States  2018                            81188.359\n",
       "India          2018                             6838.842\n",
       "Japan          2018                            41142.951\n",
       "Russia         2018                            57252.662"
      ],
      "text/html": "<div>\n<style scoped>\n    .dataframe tbody tr th:only-of-type {\n        vertical-align: middle;\n    }\n\n    .dataframe tbody tr th {\n        vertical-align: top;\n    }\n\n    .dataframe thead th {\n        text-align: right;\n    }\n</style>\n<table border=\"1\" class=\"dataframe\">\n  <thead>\n    <tr style=\"text-align: right;\">\n      <th></th>\n      <th>Year</th>\n      <th>Energy consumption per capita (kWh)</th>\n    </tr>\n    <tr>\n      <th>Entity</th>\n      <th></th>\n      <th></th>\n    </tr>\n  </thead>\n  <tbody>\n    <tr>\n      <th>China</th>\n      <td>2018</td>\n      <td>26416.955</td>\n    </tr>\n    <tr>\n      <th>United States</th>\n      <td>2018</td>\n      <td>81188.359</td>\n    </tr>\n    <tr>\n      <th>India</th>\n      <td>2018</td>\n      <td>6838.842</td>\n    </tr>\n    <tr>\n      <th>Japan</th>\n      <td>2018</td>\n      <td>41142.951</td>\n    </tr>\n    <tr>\n      <th>Russia</th>\n      <td>2018</td>\n      <td>57252.662</td>\n    </tr>\n  </tbody>\n</table>\n</div>"
     },
     "metadata": {},
     "execution_count": 40
    }
   ],
   "source": [
    "per_cap_energy_use.head()"
   ]
  },
  {
   "cell_type": "code",
   "execution_count": null,
   "metadata": {},
   "outputs": [],
   "source": []
  }
 ],
 "metadata": {
  "kernelspec": {
   "name": "python3710jvsc74a57bd00b5e4cd5611d76682c4fa8aa784c5ac34d0fb726e65a6c2adf5e87264a751c7c",
   "display_name": "Python 3.7.10 64-bit ('base': conda)"
  },
  "language_info": {
   "codemirror_mode": {
    "name": "ipython",
    "version": 3
   },
   "file_extension": ".py",
   "mimetype": "text/x-python",
   "name": "python",
   "nbconvert_exporter": "python",
   "pygments_lexer": "ipython3",
   "version": "3.7.10"
  }
 },
 "nbformat": 4,
 "nbformat_minor": 5
}