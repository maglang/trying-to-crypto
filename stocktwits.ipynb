{
 "metadata": {
  "language_info": {
   "codemirror_mode": {
    "name": "ipython",
    "version": 3
   },
   "file_extension": ".py",
   "mimetype": "text/x-python",
   "name": "python",
   "nbconvert_exporter": "python",
   "pygments_lexer": "ipython3",
   "version": "3.7.10"
  },
  "orig_nbformat": 2,
  "kernelspec": {
   "name": "python3710jvsc74a57bd00b5e4cd5611d76682c4fa8aa784c5ac34d0fb726e65a6c2adf5e87264a751c7c",
   "display_name": "Python 3.7.10 64-bit ('base': conda)"
  }
 },
 "nbformat": 4,
 "nbformat_minor": 2,
 "cells": [
  {
   "source": [
    "# Stocktwits API data"
   ],
   "cell_type": "markdown",
   "metadata": {}
  },
  {
   "cell_type": "code",
   "execution_count": 1,
   "metadata": {},
   "outputs": [],
   "source": [
    "import requests\n",
    "import pandas as pd"
   ]
  },
  {
   "cell_type": "code",
   "execution_count": 2,
   "metadata": {},
   "outputs": [],
   "source": [
    "r = requests.get('https://api.stocktwits.com/api/2/streams/symbol/AAPL.json')"
   ]
  },
  {
   "cell_type": "code",
   "execution_count": 3,
   "metadata": {},
   "outputs": [],
   "source": [
    "data =  r.json()"
   ]
  },
  {
   "source": [
    "# data['messages']"
   ],
   "cell_type": "code",
   "metadata": {},
   "execution_count": 6,
   "outputs": []
  },
  {
   "cell_type": "code",
   "execution_count": 22,
   "metadata": {
    "tags": []
   },
   "outputs": [],
   "source": [
    "dates = [message['created_at'] for message in data['messages']]\n",
    "users = [message['user']['username'] for message in data['messages']]\n",
    "tweet_body = [message['body'] for message in data['messages']]\n",
    "\n",
    "tweets_df = pd.DataFrame({\"Tweeted on\": dates, \"Usernames\": users, \"Tweet\": tweet_body})"
   ]
  },
  {
   "cell_type": "code",
   "execution_count": 23,
   "metadata": {},
   "outputs": [
    {
     "output_type": "execute_result",
     "data": {
      "text/plain": [
       "             Tweeted on       Usernames  \\\n",
       "0  2021-05-14T12:23:52Z   TheSlimTrader   \n",
       "1  2021-05-14T12:22:47Z  maximumprofits   \n",
       "2  2021-05-14T12:21:52Z          Bee4ev   \n",
       "3  2021-05-14T12:19:30Z         nethawk   \n",
       "4  2021-05-14T12:18:57Z        SirPedro   \n",
       "\n",
       "                                               Tweet  \n",
       "0  $AAPL picked up $127 calls for today around 2p...  \n",
       "1            $AAPL we hit a bottom. Watch and learn.  \n",
       "2  $CCIV  It&#39;s possible you could find an $AA...  \n",
       "3                                $AAPL 🍏🍏✅✅🤞🏽🤞🏽?????  \n",
       "4                              $AAPL What can I say?  "
      ],
      "text/html": "<div>\n<style scoped>\n    .dataframe tbody tr th:only-of-type {\n        vertical-align: middle;\n    }\n\n    .dataframe tbody tr th {\n        vertical-align: top;\n    }\n\n    .dataframe thead th {\n        text-align: right;\n    }\n</style>\n<table border=\"1\" class=\"dataframe\">\n  <thead>\n    <tr style=\"text-align: right;\">\n      <th></th>\n      <th>Tweeted on</th>\n      <th>Usernames</th>\n      <th>Tweet</th>\n    </tr>\n  </thead>\n  <tbody>\n    <tr>\n      <th>0</th>\n      <td>2021-05-14T12:23:52Z</td>\n      <td>TheSlimTrader</td>\n      <td>$AAPL picked up $127 calls for today around 2p...</td>\n    </tr>\n    <tr>\n      <th>1</th>\n      <td>2021-05-14T12:22:47Z</td>\n      <td>maximumprofits</td>\n      <td>$AAPL we hit a bottom. Watch and learn.</td>\n    </tr>\n    <tr>\n      <th>2</th>\n      <td>2021-05-14T12:21:52Z</td>\n      <td>Bee4ev</td>\n      <td>$CCIV  It&amp;#39;s possible you could find an $AA...</td>\n    </tr>\n    <tr>\n      <th>3</th>\n      <td>2021-05-14T12:19:30Z</td>\n      <td>nethawk</td>\n      <td>$AAPL 🍏🍏✅✅🤞🏽🤞🏽?????</td>\n    </tr>\n    <tr>\n      <th>4</th>\n      <td>2021-05-14T12:18:57Z</td>\n      <td>SirPedro</td>\n      <td>$AAPL What can I say?</td>\n    </tr>\n  </tbody>\n</table>\n</div>"
     },
     "metadata": {},
     "execution_count": 23
    }
   ],
   "source": [
    "tweets_df.head()"
   ]
  },
  {
   "cell_type": "code",
   "execution_count": null,
   "metadata": {},
   "outputs": [],
   "source": []
  }
 ]
}